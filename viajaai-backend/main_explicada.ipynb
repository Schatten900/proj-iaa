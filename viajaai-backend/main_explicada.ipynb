{
 "cells": [
  {
   "cell_type": "markdown",
   "id": "d7460881-baf7-49cf-b20d-f355cdcdb0d3",
   "metadata": {},
   "source": [
    "#Universidade de Brasília - Departamento de Ciência da Computação - Turma 01, 2025/2\n",
    "\n",
    "#Professor Díbio\n",
    "\n",
    "##Integrantes: \n",
    "\n",
    "###Adrielly Costa Vitória de Lima (231018973)\n",
    "\n",
    "###Carlos Cauã Rocha da Silva (231034304)\n",
    "\n",
    "###Letícia Gonçalves Bomfim (241002411)"
   ]
  },
  {
   "cell_type": "markdown",
   "id": "caf2843b-3549-4ab2-980d-0cf721700784",
   "metadata": {},
   "source": [
    "# Imports do projeto"
   ]
  },
  {
   "cell_type": "code",
   "execution_count": null,
   "id": "5242d1e4-5d28-463b-a10f-a660ed71e3d6",
   "metadata": {},
   "outputs": [],
   "source": [
    "from flask import Flask\n",
    "from flask_cors import CORS\n",
    "from config import Config\n",
    "\n",
    "# Import das rotas\n",
    "from Controller.user_controller import user_bp\n",
    "from Controller.viagem_controller import viagem_bp\n",
    "from Controller.recomendacao_controller import recomendacao_bp\n",
    "\n",
    "# Banco de dados\n",
    "from utils.database_executor import db_manager"
   ]
  },
  {
   "cell_type": "markdown",
   "id": "ca1e231d-3f52-4447-b76b-ac292a68cc1e",
   "metadata": {},
   "source": [
    "# Implementação da Main"
   ]
  },
  {
   "cell_type": "code",
   "execution_count": null,
   "id": "099b9d05-4316-4424-ba56-d7ce387f4b08",
   "metadata": {},
   "outputs": [],
   "source": [
    "def create_app():\n",
    "    app = Flask(__name__)\n",
    "    app.config.from_object(Config)\n",
    "    \n",
    "    CORS(app)\n",
    "    \n",
    "    # Registra blueprints\n",
    "    app.register_blueprint(user_bp, url_prefix='/api/user')\n",
    "    app.register_blueprint(recomendacao_bp, url_prefix='/api/recomendacao')\n",
    "    app.register_blueprint(viagem_bp, url_prefix='/api/viagem')\n",
    "    \n",
    "    # endpoint para testar conexão com banco\n",
    "    @app.route('/health')\n",
    "    def health_check():\n",
    "        try:\n",
    "            with db_manager.get_connection() as conn:\n",
    "                if conn.is_connected():\n",
    "                    return {'status': 'healthy', 'database': 'connected'}, 200\n",
    "        except Exception as e:\n",
    "            return {'status': 'unhealthy', 'database': 'disconnected', 'error': str(e)}, 500\n",
    "    \n",
    "    return app\n",
    "\n",
    "app = create_app()\n",
    "\n",
    "if __name__ == '__main__':\n",
    "    app.run(host='0.0.0.0', port=5000, debug=True)"
   ]
  },
  {
   "cell_type": "markdown",
   "id": "d7a0f540-bf8c-48ef-9f5c-888a7373844d",
   "metadata": {},
   "source": [
    "O arquivo principal do backend é responsável por criar, configurar e inicializar a aplicação Flask que serve como a interface entre o banco de dados e o front-end do sistema de recomendação e toda a estrutura do servidor é construída dentro da função create_app().\n",
    "\n",
    "Primeiramente, o código cria uma instância da aplicação Flask por meio da linha app = Flask(__name__).\n",
    "Essa instância representa o servidor web que será executado e responsável por receber e responder às requisições da interface do usuário (front-end). Em seguida, a aplicação é configurada a partir da classe Config, que contém informações essenciais, como o modo de depuração (debug), chaves de segurança e credenciais de conexão com o banco de dados.\n",
    "\n",
    "Logo após, é aplicado o comando CORS(app), que ativa o Cross-Origin Resource Sharing (CORS), que permite que o front-end, consiga se comunicar com o backend. O próximo passo é o registro dos blueprints, que são módulos de rotas separados por funcionalidades.\n",
    "Cada blueprint agrupa endpoints específicos:\n",
    "    o user_bp lida com as rotas de cadastro e autenticação de usuários;\n",
    "    o recomendacao_bp contém as rotas relacionadas à geração de recomendações personalizadas (como o uso do modelo TF-IDF);\n",
    "    o viagem_bp centraliza as rotas voltadas às operações com viagens, preferências, gêneros e avaliações.\n",
    "\n",
    "Ao registrar cada blueprint com seu respectivo prefixo (/api/user, /api/recomendacao, /api/viagem), o backend organiza as rotas de maneira hierárquica. Além disso, há um endpoint chamado /health, criado apenas para verificar o estado de saúde do sistema que define que se a conexão for bem-sucedida, é retornada uma resposta JSON informando que o servidor e o banco estão “conectados e saudáveis”. Caso contrário, o endpoint retorna um status de erro, indicando que há algum problema de conexão.\n",
    "\n",
    "Por fim, na parte inferior do código, a linha if __name__ == '__main__': garante que o servidor Flask só será executado se o arquivo for iniciado diretamente Dentro desse bloco, o comando app.run(host='0.0.0.0', port=5000, debug=True) inicia o servidor na porta 5000, permitindo que o backend seja acessado tanto localmente quanto por outros dispositivos da mesma rede.\n",
    "Dessa forma, a função da main é conectar o banco de dados, registrando as rotas da aplicação e disponibilizando o servidor para comunicação com o front-end. Ela garante que o sistema de recomendação funcione como um serviço web completo, preparado para receber dados de usuários, processar informações e retornar recomendações de forma organizada e segura."
   ]
  }
 ],
 "metadata": {
  "kernelspec": {
   "display_name": "Python 3 (ipykernel)",
   "language": "python",
   "name": "python3"
  },
  "language_info": {
   "codemirror_mode": {
    "name": "ipython",
    "version": 3
   },
   "file_extension": ".py",
   "mimetype": "text/x-python",
   "name": "python",
   "nbconvert_exporter": "python",
   "pygments_lexer": "ipython3",
   "version": "3.12.3"
  }
 },
 "nbformat": 4,
 "nbformat_minor": 5
}
